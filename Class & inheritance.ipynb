{
 "cells": [
  {
   "cell_type": "markdown",
   "metadata": {},
   "source": [
    "- 본 문서는 __class__는 무엇인지, __inheritance(상속)__은 무엇인지를 예제와 함께 설명하는 것을 목표로 함.\n",
    "- 다양한 웹사이트를 참고함"
   ]
  },
  {
   "cell_type": "markdown",
   "metadata": {},
   "source": [
    "---"
   ]
  },
  {
   "cell_type": "markdown",
   "metadata": {},
   "source": [
    "# 1. Class (클래스)\n",
    "- __Source : [예제로 배우는 파이썬 프로그래밍](http://pythonstudy.xyz/python/article/19-%ED%81%B4%EB%9E%98%EC%8A%A4)__"
   ]
  },
  {
   "cell_type": "markdown",
   "metadata": {},
   "source": [
    "### 1) 클래스\n"
   ]
  },
  {
   "cell_type": "markdown",
   "metadata": {},
   "source": [
    "파이썬은 객체지향 프로그래밍(OOP, Object Oriented Programming)을 기본적으로 지원하고 있다. 파이썬에서 객체지향 프로그래밍의 기본 단위인 클래스를 만들기 위해서는 아래와 같이 \"class 클래스명\" 을 사용하여 정의한다. 클래스명은 PEP 8 Coding Convention에 가이드된 대로 각 단어의 첫 문자를 대문자로 하는 CapWords 방식으로 명명한다. 아래 예제는 MyClass라는 클래스를 정의한 것으로 별도의 클래스 멤버를 정의하지 않은 가장 간단한 빈 클래스이다. 클래스 정의 내의 pass문은 빈 동작 혹은 아직 구현되지 않았음을 의미하는 것으로 여기서는 빈 클래스를 의미한다."
   ]
  },
  {
   "cell_type": "code",
   "execution_count": 86,
   "metadata": {},
   "outputs": [],
   "source": [
    "class MyClass:\n",
    "    pass"
   ]
  },
  {
   "cell_type": "markdown",
   "metadata": {},
   "source": [
    "### 2) 클래스 멤버\n",
    "클래스는 데이타를 표현하는 속성(attribute)과 행위를 표현하는 메서드(method)를 포함하는 논리적인 컨테이너이다. 클래스는 세부적으로 __메서드(method)__, __프로퍼티(property)__, __클래스 변수(class variable)__, __인스턴스 변수(instance variable)__, __초기자(initializer)__, __소멸자(destructor)__ 등 다양한 종류의 멤버들로 구분할 수 있다. 파이썬에서 클래스는 전통적으로 크게 속성(attribute)과 메서드(method)를 갖는 논리적 단위이지만, 메서드를 특히 Callable attribute로 볼 수도 있기 때문에 속성과 메서드 모두를 그 클래스의 attribute 라고 생각할 수도 있다. 또한, 다른 OOP 언어와 달리, 파이썬은 동적 언어(Dynamic Language)로서 새로운 attribute를 실행 중 동적으로 추가할 수 있다."
   ]
  },
  {
   "cell_type": "markdown",
   "metadata": {},
   "source": [
    "__<span style=\"color:blue\">메서드</span>__"
   ]
  },
  {
   "cell_type": "markdown",
   "metadata": {},
   "source": [
    "메서드는 클래스의 행위를 표현하는 것으로 __클래스 내의 함수__로 볼 수 있다. 파이썬에서 메서드는 크게 인스턴스 메서드(instance method), 클래스 메서드(class method), 정적 메서드(static method)가 있다. 가장 흔히 쓰이는 __인스턴스 메서드는 인스턴스 변수에 엑세스할 수 있도록 메서드의 첫번째 파라미터에 항상 객체 자신을 의미하는 \"self\"라는 파라미터를 갖는다.__ 아래 예제에서 calcArea()가 인스턴스 메서드에 해당된다. 인스턴스 메서드는 여러 파라미터를 가질 수 있지만, 첫번째 파라미터는 항상 self 를 갖는다."
   ]
  },
  {
   "cell_type": "code",
   "execution_count": 87,
   "metadata": {},
   "outputs": [],
   "source": [
    "class Rectangle:\n",
    "    count = 0  # 클래스 변수\n",
    " \n",
    "    # 초기자(initializer)\n",
    "    def __init__(self, width, height):\n",
    "        # self.* : 인스턴스변수\n",
    "        self.width = width\n",
    "        self.height = height\n",
    "        Rectangle.count += 1\n",
    " \n",
    "    # 메서드\n",
    "    def calcArea(self):\n",
    "        area = self.width * self.height\n",
    "        return area"
   ]
  },
  {
   "cell_type": "markdown",
   "metadata": {},
   "source": [
    "__<span style=\"color:blue\">클래스 변수</span>__"
   ]
  },
  {
   "cell_type": "markdown",
   "metadata": {},
   "source": [
    "클래스 정의에서 __인스턴스 변수를 정의하는 부분(초기화)와 메서드 밖에 존재하는 변수__를 __클래스 변수(class variable)__라 하는데, 이는 해당 클래스를 사용하는 모두에게 공용으로 사용되는 변수이다. 클래스 변수는 클래스 내외부에서 \"클래스명.변수명\" 으로 엑세스 할 수 있다. 위의 예제에서 count는 클래스변수로서 \"Rectangle.count\"와 같이 엑세스할 수 있다."
   ]
  },
  {
   "cell_type": "markdown",
   "metadata": {},
   "source": [
    "__<span style=\"color:blue\">인스턴스 변수</span>__"
   ]
  },
  {
   "cell_type": "markdown",
   "metadata": {},
   "source": [
    "하나의 클래스로부터 여러 객체 인스턴스를 생성해서 사용할 수 있다. __클래스 변수가 하나의 클래스에 하나만 존재__하는 반면, __인스턴스 변수는 각 객체 인스턴스마다 별도로 존재__한다. 클래스 정의에서 메서드 안에서 사용되면서 \"self.변수명\"처럼 사용되는 변수를 인스턴스 변수(instance variable)라 하는데, 이는 각 객체별로 서로 다른 값을 갖는 변수이다. __인스턴스 변수는 클래스 내부에서는 self.width 과 같이 \"self.\" 을 사용하여 엑세스하고, 클래스 밖에서는 \"객체변수.인스턴스변수\"와 같이 엑세스 한다.__\n",
    "\n",
    "Python은 다른 언어에서 흔히 사용하는 public, protected, private 등의 접근 제한자 (Access Modifier)를 갖지 않는다. Python 클래스는 기본적으로 모든 멤버가 public이라고 할 수 있다. Python 코딩 관례(Convention)상 내부적으로만 사용하는 변수 혹은 메서드는 그 이름 앞에 하나의 밑줄( \\_ ) 을 붙인다. 하지만 이는 코딩 관례에 따른 것일 뿐 실제 밑줄 하나를 사용한 멤버도 public 이므로 필요하면 외부에서 엑세스할 수 있다. __만약 특정 변수명이나 메서드를 private으로 만들어야 한다면 두개의 밑줄( \\_\\_ )을 이름 앞에 붙이면 된다.__"
   ]
  },
  {
   "cell_type": "code",
   "execution_count": 88,
   "metadata": {},
   "outputs": [],
   "source": [
    "def __init__(self, width, height):\n",
    "    self.width = width\n",
    "    self.height = height\n",
    " \n",
    "    # private 변수 __area\n",
    "    self.__area = width * height\n",
    " \n",
    "# private 메서드\n",
    "def __internalRun(self):\n",
    "    pass"
   ]
  },
  {
   "cell_type": "markdown",
   "metadata": {},
   "source": [
    "__<span style=\"color:blue\">Initializer (초기자)</span>__"
   ]
  },
  {
   "cell_type": "markdown",
   "metadata": {},
   "source": [
    "클래스로부터 새 객체를 생성할 때마다 실행되는 특별한 메서드로 \\_\\_init\\_\\_() 이라는 메서드가 있는데, 이를 흔히 클래스 Initializer 라 부른다 (주: 파이썬에서 두개의 밑줄 ( \\_\\_ ) 시작하고 두개의 밑줄로 끝나는 레이블은 보통 특별한 의미를 갖는다). __Initializer는 클래스로부터 객체를 만들 때, 인스턴스 변수를 초기화하거나__ 객체의 초기상태를 만들기 위한 문장들을 실행하는 곳이다. 위의 \\_\\_init\\_\\_() 예제를 보면, width와 height라는 입력 파라미터들을 각각 self.width와 self.height라는 인스턴스변수에 할당하여 객체 내에서 계속 사용할 수 있도록 준비하고 있다.\n",
    "(주: Python의 Initializer는 C#/C++/Java 등에서 일컫는 생성자(Constructor)와 약간 다르다. Python에서 클래스 생성자(Constructor)는 실제 런타임 엔진 내부에서 실행되는데, 이 생성자(Constructor) 실행 도중 클래스 안에 Initializer가 있는지 체크하여 만약 있으면 Initializer를 호출하여 객체의 변수 등을 초기화한다.)."
   ]
  },
  {
   "cell_type": "markdown",
   "metadata": {},
   "source": [
    "__<span style=\"color:blue\">정적 메서드와 클래스 메서드</span>__"
   ]
  },
  {
   "cell_type": "markdown",
   "metadata": {},
   "source": [
    "인스턴스 메서드가 객체의 인스턴스 필드를 self를 통해 엑세스할 수 있는 반면, 정적 메서드는 이러한 self 파라미터를 갖지 않고 인스턴스 변수에 엑세스할 수 없다. 따라서, __정적 메서드는 보통 객체 필드와 독립적이지만 로직상 클래스내에 포함되는 메서드에 사용__된다. 정적 메서드는 메서드 앞에 @staticmethod 라는 Decorator를 표시하여 해당 메서드가 정적 메서드임을 표시한다.\n",
    "\n",
    "클래스 메서드는 메서드 앞에 @classmethod 라는 Decorator를 표시하여 해당 메서드가 클래스 메서드임을 표시한다. 클래스 메서드는 정적 메서드와 비슷한데, 객체 인스턴스를 의미하는 self 대신 cls 라는 클래스를 의미하는 파라미터를 전달받는다. 정적 메서드는 이러한 cls 파라미터를 전달받지 않는다. __클래스 메서드는 이렇게 전달받은 cls 파라미터를 통해 클래스 변수 등을 엑세스할 수 있다.__\n",
    "\n",
    "일반적으로 인스턴스 데이타를 엑세스 할 필요가 없는 경우 클래스 메서드나 정적 메서드를 사용하는데, 이때 보통 클래스 변수를 엑세스할 필요가 있을 때는 클래스 메서드를, 이를 엑세스할 필요가 없을 때는 정적 메서드를 사용한다.\n",
    "\n",
    "아래 예제에서 isSquare() 메서드는 정적 메서드로서 cls 파라미터를 전달받지 않고 메서드 내에서 클래스 변수를 사용하지 않고 있다. 반면, printCount() 메서드는 클래스 메서드로서 cls 파라미터를 전달받고 메서드 내에서 클래스 변수 count 를 사용하고 있다."
   ]
  },
  {
   "cell_type": "code",
   "execution_count": 81,
   "metadata": {},
   "outputs": [],
   "source": [
    "class Rectangle:\n",
    "    count = 0  # 클래스 변수\n",
    " \n",
    "    def __init__(self, width, height):\n",
    "        # self.* : 인스턴스변수\n",
    "        self.width = width\n",
    "        self.height = height\n",
    "        Rectangle.count += 1\n",
    " \n",
    "    # 인스턴스 메서드\n",
    "    def calcArea(self):\n",
    "        area = self.width * self.height\n",
    "        return area\n",
    " \n",
    "    # 정적 메서드\n",
    "    @staticmethod\n",
    "    def isSquare(rectWidth, rectHeight):\n",
    "        return rectWidth == rectHeight   \n",
    " \n",
    "    # 클래스 메서드\n",
    "    @classmethod\n",
    "    def printCount(cls):\n",
    "        print(cls.count)    "
   ]
  },
  {
   "cell_type": "code",
   "execution_count": 82,
   "metadata": {},
   "outputs": [
    {
     "name": "stdout",
     "output_type": "stream",
     "text": [
      "True\n"
     ]
    }
   ],
   "source": [
    "# 테스트\n",
    "square = Rectangle.isSquare(5, 5)        \n",
    "print(square)   # True "
   ]
  },
  {
   "cell_type": "code",
   "execution_count": 83,
   "metadata": {},
   "outputs": [
    {
     "name": "stdout",
     "output_type": "stream",
     "text": [
      "2\n"
     ]
    }
   ],
   "source": [
    "rect1 = Rectangle(5, 5)\n",
    "rect2 = Rectangle(2, 5)\n",
    "rect1.printCount()  # 2 "
   ]
  },
  {
   "cell_type": "markdown",
   "metadata": {},
   "source": [
    "__<span style=\"color:blue\">Special Method (Magic Method)</span>__"
   ]
  },
  {
   "cell_type": "markdown",
   "metadata": {},
   "source": [
    "파이썬에는 Initializer 이외에도 객체가 소멸될 때 (Garbage Collection 될 때) 실행되는 소멸자( \\_\\_del\\_\\_ ) 메서드, 두 개의 객체를 ( + 기호로) 더하는 \\_\\_add\\_\\_ 메서드, 두 개의 객체를 ( - 기호로) 빼는 \\_\\_sub\\_\\_ 메서드, 두 개의 객체를 비교하는 \\_\\_cmp\\_\\_ 메서드, 문자열로 객체를 표현할 때 사용하는 \\_\\_str\\_\\_ 메서드 등 많은 특별한 용도의 메서드들이 있는데, 이러한 메서드들을 Special Method 혹은 매직메서드(Magic Method)라고 부른다. 아래 예제는 이 중 \\_\\_add\\_\\_() 메서드에 대한 예이다."
   ]
  },
  {
   "cell_type": "code",
   "execution_count": 101,
   "metadata": {},
   "outputs": [
    {
     "name": "stdout",
     "output_type": "stream",
     "text": [
      "(30, 20)\n"
     ]
    }
   ],
   "source": [
    "class Rectangle:\n",
    "    count = 0  # 클래스 변수\n",
    " \n",
    "    # 초기자(initializer)\n",
    "    def __init__(self, width, height):\n",
    "        # self.* : 인스턴스변수\n",
    "        self.width = width\n",
    "        self.height = height\n",
    "        Rectangle.count += 1\n",
    "    \n",
    "    # 인스턴스 메서드\n",
    "    def calcArea(self):\n",
    "        area = self.width * self.height\n",
    "        return area\n",
    " \n",
    "    # 정적 메서드\n",
    "    @staticmethod\n",
    "    def isSquare(rectWidth, rectHeight):\n",
    "        return rectWidth == rectHeight   \n",
    " \n",
    "    # 클래스 메서드\n",
    "    @classmethod\n",
    "    def printCount(cls):\n",
    "        print(cls.count) \n",
    "    \n",
    "    # Special Method\n",
    "    def __add__(self, other):\n",
    "        obj = Rectangle(self.width + other.width, self.height + other.height)\n",
    "        return obj\n",
    "    \n",
    "    # Special Method\n",
    "    def __str__(self):\n",
    "        return f\"({self.width}, {self.height})\"\n",
    "\n",
    "# 사용 예\n",
    "r1 = Rectangle(10, 5)\n",
    "r2 = Rectangle(20, 15)\n",
    "r3 = r1 + r2  # __add__()가 호출됨\n",
    "print(r3)"
   ]
  },
  {
   "cell_type": "markdown",
   "metadata": {},
   "source": [
    "### 3) 클래스 인스턴스의 생성과 사용\n",
    "클래스를 사용하기 위해서는 먼저 클래스로부터 인스턴스(객체)를 생성해야 한다. 파이썬에서 인스턴스를 생성하기 위해서는 \"객체변수명 = 클래스명()\"과 같이 클래스명을 함수 호출하는 것처럼 사용하면 된다. 만약 __init__() 함수가 있고, 그곳에 입력 파라미터들이 지정되어 있다면, \"클래스명(입력파라미터들)\"과 같이 파라미터를 괄호 안에 전달한다. 이렇게 전달된 파라미터들은 Initializer 에서 사용된다.\n",
    "\n",
    "아래 예제를 보면, Rectangle 클래스로부터 r 이라는 클래스 인스턴스를 생성 하고 있는데, Rectangle(2, 3)와 같이 2개의 파라미터를 전달하고 있다. 이는 Rectangle 초기자에서 각각 width와 height 인스턴스 변수를 초기화하는데 사용된다."
   ]
  },
  {
   "cell_type": "code",
   "execution_count": 102,
   "metadata": {},
   "outputs": [
    {
     "name": "stdout",
     "output_type": "stream",
     "text": [
      "area =  6\n"
     ]
    }
   ],
   "source": [
    "# 인스턴스 생성\n",
    "r = Rectangle(2, 3)\n",
    " \n",
    "# 메서드 호출\n",
    "area = r.calcArea()\n",
    "print(\"area = \", area) "
   ]
  },
  {
   "cell_type": "code",
   "execution_count": 103,
   "metadata": {},
   "outputs": [
    {
     "name": "stdout",
     "output_type": "stream",
     "text": [
      "width =  10\n"
     ]
    }
   ],
   "source": [
    "# 인스턴스 변수 엑세스\n",
    "r.width = 10\n",
    "print(\"width = \", r.width)"
   ]
  },
  {
   "cell_type": "code",
   "execution_count": 104,
   "metadata": {},
   "outputs": [
    {
     "name": "stdout",
     "output_type": "stream",
     "text": [
      "4\n",
      "4\n"
     ]
    }
   ],
   "source": [
    " # 클래스 변수 엑세스\n",
    "print(Rectangle.count)\n",
    "print(r.count)"
   ]
  },
  {
   "cell_type": "markdown",
   "metadata": {},
   "source": [
    "클래스로부터 생성된 클래스 인스턴스(객체)로부터 클래스 멤버들을 호출하거나 엑세스할 수 있다. 인스턴스 메서드는 \"객체변수.메서드명()\"과 같이 호출할 수 있는데, 위의 예제에선 r.calcArea() 이 메서드 호출에 해당된다. 인스턴스 변수는 \"객체변수.인스턴스변수\" 으로 표현되며, 값을 읽거나 변경하는 일이 가능하다. 위의 예제 r.width = 10 은 인스턴스변수 width 에 새 값을 할당하는 예이다.\n",
    "\n",
    "파이썬에서 특히 클래스 변수를 엑세스할 때, \"클래스명.클래스변수명\" 혹은 \"객체명.클래스변수명\"을 둘 다 허용하기 때문에 약간의 혼란을 초래할 수 있다. 예를 들어, 위의 예제에서 Rectangle.count 혹은 r.count은 모두 클래스 변수 count를 엑세스하는 경우로서 이 케이스에는 동일한 값을 출력한다. 하지만, 아래 예제와 같이 Rectangle 클래스의 클래스 변수 count를 Rectangle.count로 할당하지 않고 객체 r 로부터 할당하면 혼돈스러운 결과를 초래하게 된다.\n",
    "\n",
    "파이썬에서 한 객체의 attribute에 값이 할당되면 (예를 들어, r.count = 10), 먼저 해당 객체에 이미 동일한 attribute가 있는지 체크해서 있으면 새 값으로 치환하고, 만약 그 attribute가 없으면 객체에 새로운 attribute를 생성하고 값을 할당한다. 즉, r.count = 10 의 경우 클래스 변수인 count를 사용하는 것이 아니라 새로 그 객체에 추가된 인스턴스 변수를 사용하게 되므로 클래스 변수값은 변경되지 않는다.\n",
    "\n",
    "파이썬에서 한 객체의 attribute를 읽을 경우에는 먼저 그 객체에서 attribute를 찾아보고, 없으면 그 객체의 소속 클래스에서 찾고, 다시 없으며 상위 Base 클래스에서 찾고, 그래도 없으면 에러를 발생시킨다. 따라서, 위 예제에서 클래스 변수값이 출력된 이유는 값을 할당하지 않고 읽기만 했기 때문에, r 객체에 새 인스턴스 변수를 생성하지 않게 되었고, 따라서 객체의 attribute가 없어서 클래스의 attribute를 찾았기 때문이다. 이러한 혼돈을 피하기 위해 클래스 변수를 엑세스할 때는 클래스명을 사용하는 것이 좋다.\n",
    "\n"
   ]
  },
  {
   "cell_type": "code",
   "execution_count": 105,
   "metadata": {},
   "outputs": [
    {
     "name": "stdout",
     "output_type": "stream",
     "text": [
      "10 50\n"
     ]
    }
   ],
   "source": [
    "r = Rectangle(2, 3)\n",
    " \n",
    "Rectangle.count = 50\n",
    "r.count = 10   # count 인스턴스 변수가 새로 생성됨\n",
    " \n",
    "print(r.count, Rectangle.count)  # 10  50 출력"
   ]
  },
  {
   "cell_type": "markdown",
   "metadata": {},
   "source": [
    "# 2. 상속 (Inheritance)\n",
    "- __Source: [파이썬! - 기본을 갈고 닦자](https://wikidocs.net/16073)__"
   ]
  },
  {
   "cell_type": "markdown",
   "metadata": {},
   "source": [
    "### 1) 상속(inheritance) 이란?\n",
    "- 클래스에서 상속이란, 물려주는 클래스(Parent Class, Super class)의 내용(속성attribute과 메소드method)을 물려받는 클래스(Child class, sub class)가 가지게 되는 것입니다.\n",
    "- 예를 들면 국가라는 클래스가 있고, 그것을 상속받은 한국, 일본, 중국, 미국 등의 클래스를 만들 수 있으며, 국가라는 클래스의 기본적인 속성으로 인구라는 속성을 만들었다면, 상속 받은 한국, 일본, 중국 등등의 클래스에서 부모 클래스의 속성과 메소드를 사용할 수 있음을 말합니다.\n",
    "\n",
    "__기본적인 사용방법__\n",
    "- 자식클래스를 선언할때 소괄호로 부모클래스를 포함시킵니다.\n",
    "- 그러면 자식클래스에서는 부모클래스의 속성과 메소드는 기재하지 않아도 포함이 됩니다."
   ]
  },
  {
   "cell_type": "markdown",
   "metadata": {},
   "source": [
    "```python\n",
    "class 부모클래스:\n",
    "    ...내용...\n",
    "\n",
    "class 자식클래스(부모클래스):\n",
    "    ...내용...\n",
    "```"
   ]
  },
  {
   "cell_type": "markdown",
   "metadata": {},
   "source": [
    "### 2) 상속 사용하기\n",
    "- 아래와 같이 코드를 작성해봅니다.\n",
    "- 상속받은 서브 클래스에서는 상속해준 슈퍼 클래스의 클래스 변수와 메소드를 모두 사용할 수 있음을 확인할 수 있습니다."
   ]
  },
  {
   "cell_type": "code",
   "execution_count": 121,
   "metadata": {},
   "outputs": [],
   "source": [
    "class Smartphone:\n",
    "    \"\"\"Parent Class\"\"\"\n",
    "    \n",
    "    class_type = '스마트폰' # 클래스 변수\n",
    "    \n",
    "    # 초기자 (의미 : instance 변수 정의할꺼야)\n",
    "    def __init__(self, size):\n",
    "        wifi = True # 인스턴스 정의에 필요없는 인스턴스 변수\n",
    "        screen_size = size # 인스턴스 정의에 필요한 인스턴스 변수\n",
    "\n",
    "    def show(self):\n",
    "        return 'Smartphone 클래스 (부모 클래스)의 메소드입니다.'\n",
    "\n",
    "class Galaxy(Smartphone):\n",
    "    \"\"\"Child Class\"\"\"\n",
    "\n",
    "    def __init__(self, name):\n",
    "        self.os = 'Android'\n",
    "        self.name = name\n",
    "\n",
    "    def show_name(self):\n",
    "        return f\"핸드폰 기종: {self.name}\""
   ]
  },
  {
   "cell_type": "code",
   "execution_count": 122,
   "metadata": {},
   "outputs": [
    {
     "name": "stdout",
     "output_type": "stream",
     "text": [
      "Smartphone 클래스 (부모 클래스)의 메소드입니다.\n",
      "핸드폰 기종: A6\n"
     ]
    }
   ],
   "source": [
    "my_phone = Galaxy('A6')\n",
    "print(my_phone.show())\n",
    "print(my_phone.show_name())"
   ]
  },
  {
   "cell_type": "code",
   "execution_count": 124,
   "metadata": {},
   "outputs": [
    {
     "data": {
      "text/plain": [
       "'스마트폰'"
      ]
     },
     "execution_count": 124,
     "metadata": {},
     "output_type": "execute_result"
    }
   ],
   "source": [
    "my_phone.class_type # 클래스 변수 (class variable)에는 접근 가능함"
   ]
  },
  {
   "cell_type": "code",
   "execution_count": 125,
   "metadata": {},
   "outputs": [
    {
     "ename": "AttributeError",
     "evalue": "'Galaxy' object has no attribute 'screen_size'",
     "output_type": "error",
     "traceback": [
      "\u001b[1;31m---------------------------------------------------------------------------\u001b[0m",
      "\u001b[1;31mAttributeError\u001b[0m                            Traceback (most recent call last)",
      "\u001b[1;32m<ipython-input-125-28e197ac773a>\u001b[0m in \u001b[0;36m<module>\u001b[1;34m\u001b[0m\n\u001b[1;32m----> 1\u001b[1;33m \u001b[0mprint\u001b[0m\u001b[1;33m(\u001b[0m\u001b[0mmy_phone\u001b[0m\u001b[1;33m.\u001b[0m\u001b[0mscreen_size\u001b[0m\u001b[1;33m)\u001b[0m \u001b[1;31m# 인스턴스 변수 (instance variable)에는 접근이 불가능함\u001b[0m\u001b[1;33m\u001b[0m\u001b[1;33m\u001b[0m\u001b[0m\n\u001b[0m",
      "\u001b[1;31mAttributeError\u001b[0m: 'Galaxy' object has no attribute 'screen_size'"
     ]
    }
   ],
   "source": [
    "print(my_phone.screen_size) # 인스턴스 변수 (instance variable)에는 접근이 불가능함"
   ]
  },
  {
   "cell_type": "markdown",
   "metadata": {},
   "source": [
    "### __super().\\_\\_init\\_\\_()__\n",
    "1. Child 클래스는 Parent 클래스를 상속 받는다. 이는 Child 클래스내에 Parent 클래스의 메소드를 모두 가져오기 하는 것이라고 생각하면 쉽습니다.\n",
    "2. 그러나 Parent 클래스와 Child 클래스는 모두 \\_\\_init\\_\\_()이라는 메소드를 가지고 있다. 따라서 super()를 사용하지 않으면, 부모 클래스의 \\_\\_init\\_\\_()는 자식 클래스의 \\_\\_init\\_\\_()에 의해 overriding(덮어쓰기) 됩니다.\n",
    "3. Child 클래스의 \\_\\_init\\_\\_() 메소드에 Parent 클래스의 \\_\\_init\\_\\_() 메소드의 변수를 가지고 오고 싶다!!\n",
    "4. Child 클래스의 \\_\\_init\\_\\_() 메소드내에서 super().\\_\\_init\\_\\_()을 입력하면 Parent 클래스의 \\_\\_init\\_\\_()에 있는 클래스 변수들을 가지고 올 수 있습니다.\n",
    "5. 이를 볼때 super()는 상속받은 부모 클래스를 의미한다고 볼 수 있습니다.\n",
    "6. 그러나 Parent 클래스의 \\_\\_init\\_\\_() 메소드에 argument가 있다면 Child 클래스는 \\_\\_init\\_\\_()에 **kwargs를 반드시 입력해 주어야 합니다. 또한 super().\\_\\_init\\_\\_()에도 반드시 **kwargs를 인자로 전달해 주어야 합니다.\n",
    "7. 이를 하지 않으면 \\_\\_init\\_\\_() missing required positional arguments 에러가 발생합니다.\n",
    "\n",
    "__Source: [gwkoo.log](https://velog.io/@gwkoo/%ED%81%B4%EB%9E%98%EC%8A%A4-%EC%83%81%EC%86%8D-%EB%B0%8F-super-%ED%95%A8%EC%88%98%EC%9D%98-%EC%97%AD%ED%95%A0)__"
   ]
  },
  {
   "cell_type": "code",
   "execution_count": 142,
   "metadata": {},
   "outputs": [],
   "source": [
    "class Smartphone:\n",
    "    \"\"\"Parent Class\"\"\"\n",
    "    \n",
    "    class_type = '스마트폰' # 클래스 변수\n",
    "    \n",
    "    # 초기자 (의미 : instance 변수 정의할꺼야)\n",
    "    def __init__(self, size):\n",
    "        wifi = True # 인스턴스 정의에 필요없는 인스턴스 변수\n",
    "        self.screen_size = size # 인스턴스 정의에 필요한 인스턴스 변수\n",
    "\n",
    "    def show(self):\n",
    "        return 'Smartphone 클래스 (부모 클래스)의 메소드입니다.'\n",
    "    \n",
    "    def show_screen_size(self):\n",
    "        return f'스크린 사이즈: {self.screen_size}'\n",
    "\n",
    "class Galaxy(Smartphone):\n",
    "    \"\"\"Child Class\"\"\"\n",
    "\n",
    "    def __init__(self, name, size):\n",
    "        super().__init__(size)\n",
    "        self.os = 'Android'\n",
    "        self.name = name\n",
    "\n",
    "    def show_name(self):\n",
    "        return f\"핸드폰 기종: {self.name}\""
   ]
  },
  {
   "cell_type": "code",
   "execution_count": 143,
   "metadata": {},
   "outputs": [
    {
     "name": "stdout",
     "output_type": "stream",
     "text": [
      "핸드폰 기종: S10\n",
      "스크린 사이즈: 5.3\n"
     ]
    }
   ],
   "source": [
    "my_phone = Galaxy(\"S10\", 5.3)\n",
    "print(my_phone.show_name())\n",
    "print(my_phone.show_screen_size())"
   ]
  },
  {
   "cell_type": "markdown",
   "metadata": {},
   "source": [
    "### 3) 메소드 오버라이딩 (Method overriding)\n",
    "__3-1 일반적인 메소드 오버라이딩__\n",
    "- 메소드 오버라이딩은 부모 클래스의 메소드를 자식 클래스에서 재정의 하는 것입니다.\n",
    "- 코드로 한번 보겠습니다. Korea 클래스(child class)에서 Country 클래스(parent class)의 show 메소드를 재정의 합니다."
   ]
  },
  {
   "cell_type": "code",
   "execution_count": 144,
   "metadata": {},
   "outputs": [],
   "source": [
    "class Korea(Country):\n",
    "    \"\"\"Sub Class\"\"\"\n",
    "\n",
    "    def __init__(self, name,population, capital):\n",
    "        self.name = name\n",
    "        self.population = population\n",
    "        self.capital = capital\n",
    "\n",
    "    def show(self):\n",
    "        print(f\"국가의 이름은 {self.name} 입니다.\\n\"\n",
    "              f\"국가의 인구는 {self.population} 입니다.\\n\"\n",
    "              f\"국가의 수도는 {self.capital} 입니다.\")\n",
    "#     ... 생략"
   ]
  },
  {
   "cell_type": "markdown",
   "metadata": {},
   "source": [
    "- 결과를 보겠습니다."
   ]
  },
  {
   "cell_type": "code",
   "execution_count": 145,
   "metadata": {},
   "outputs": [
    {
     "name": "stdout",
     "output_type": "stream",
     "text": [
      "국가의 이름은 대한민국 입니다.\n",
      "국가의 인구는 50000000 입니다.\n",
      "국가의 수도는 서울 입니다.\n"
     ]
    }
   ],
   "source": [
    "a = Korea('대한민국', 50000000, '서울')\n",
    "a.show()"
   ]
  },
  {
   "cell_type": "markdown",
   "metadata": {},
   "source": [
    "- 부모 클래스의 `show()`메소드는 무시되고 자식클래스의 `show()`메소드가 수행됩니다."
   ]
  },
  {
   "cell_type": "markdown",
   "metadata": {},
   "source": [
    "#### __3-2 부모 메소드 호출하기__\n",
    "- 부모클래스의 메소드도 수행하고, 자식클래스의 메소드의 내용도 함께 출력하기를 원할 수 있습니다.\n",
    "- 그럴때는 `super()` 라는 키워드를 사용하면 자식클래스 내에서 코드에서도 부모클래스를 호출할 수 있습니다."
   ]
  },
  {
   "cell_type": "code",
   "execution_count": 146,
   "metadata": {},
   "outputs": [],
   "source": [
    "class Korea(Country):\n",
    "\n",
    "    def __init__(self, name,population, capital):\n",
    "        self.name = name\n",
    "        self.population = population\n",
    "        self.capital = capital\n",
    "\n",
    "    def show(self):\n",
    "        super().show()\n",
    "        print(f\"--------------------------------\\n\"\n",
    "              f\"국가의 이름은 {self.name} 입니다.\\n\"\n",
    "              f\"국가의 인구는 {self.population} 입니다.\\n\"\n",
    "              f\"국가의 수도는 {self.capital} 입니다.\")\n",
    "\n",
    "#     ... 생략"
   ]
  },
  {
   "cell_type": "code",
   "execution_count": 147,
   "metadata": {},
   "outputs": [
    {
     "name": "stdout",
     "output_type": "stream",
     "text": [
      "국가 클래스의 메소드입니다.\n",
      "--------------------------------\n",
      "국가의 이름은 대한민국 입니다.\n",
      "국가의 인구는 50000000 입니다.\n",
      "국가의 수도는 서울 입니다.\n"
     ]
    }
   ],
   "source": [
    "a = Korea('대한민국', 50000000, '서울')\n",
    "a.show()"
   ]
  },
  {
   "cell_type": "markdown",
   "metadata": {},
   "source": [
    "- 부모클래스의 'show()' 또한 실행이 되었음을 확인할 수 있습니다."
   ]
  },
  {
   "cell_type": "markdown",
   "metadata": {},
   "source": [
    "## 4. 다중상속"
   ]
  },
  {
   "cell_type": "markdown",
   "metadata": {},
   "source": [
    "- C# 또는 Java는 다중상속이 불가능한 언어입니다.\n",
    "- 파이썬은 C++과 같이 다중상속이 가능합니다.\n",
    "- 작성 형식은 아래와 같습니다."
   ]
  },
  {
   "cell_type": "markdown",
   "metadata": {},
   "source": [
    "```python\n",
    "    class 부모클래스1:\n",
    "        ...내용...\n",
    "\n",
    "    class 부모클래스2:\n",
    "        ...내용...\n",
    "\n",
    "    class 자식클래스(부모클래스1, 부모클래스2):\n",
    "        ...내용...\n",
    "\n",
    "```"
   ]
  },
  {
   "cell_type": "markdown",
   "metadata": {},
   "source": [
    "- 예제 코드 입니다.\n",
    "- 아래와 같이 2개의 클래스를 상속하였습니다. 상속 개수에는 제한이 없습니다."
   ]
  },
  {
   "cell_type": "markdown",
   "metadata": {},
   "source": [
    "```python\n",
    "class Country:\n",
    "    \"\"\"Super Class\"\"\"\n",
    "...생략\n",
    "\n",
    "\n",
    "class Province:\n",
    "    Province_list = []\n",
    "\n",
    "\n",
    "class Korea(Country, Province):\n",
    "    \"\"\"Sub Class\"\"\"\n",
    "... 생략\n",
    "```"
   ]
  },
  {
   "cell_type": "markdown",
   "metadata": {},
   "source": [
    "## 기타. mro() 메소드\n",
    "- `mro()` - 클래스를 작성하면 상속 관계를 확인할 수 있는 메소드\n",
    "- Korea클래스에 `mro()` 메소드를 실행하면 Korea클래스 다음 Country 다음 object가 나옵니다.\n",
    "- 모든 클래스는 object클래스의 상속입니다. 기본적으로 파이썬 3부터 object가 생략되어 코드가 작성됩니다"
   ]
  },
  {
   "cell_type": "code",
   "execution_count": 148,
   "metadata": {},
   "outputs": [
    {
     "data": {
      "text/plain": [
       "[__main__.Korea, __main__.Country, object]"
      ]
     },
     "execution_count": 148,
     "metadata": {},
     "output_type": "execute_result"
    }
   ],
   "source": [
    "Korea.mro()"
   ]
  },
  {
   "cell_type": "markdown",
   "metadata": {},
   "source": [
    "- Korea클래스는 Korea라는 Child class이기도 하면서, Country라는 Parent class를 상속받았기에 Country 클래스이기도 함을 알 수 있습니다 (다중상속)"
   ]
  }
 ],
 "metadata": {
  "kernelspec": {
   "display_name": "Python 3",
   "language": "python",
   "name": "python3"
  },
  "language_info": {
   "codemirror_mode": {
    "name": "ipython",
    "version": 3
   },
   "file_extension": ".py",
   "mimetype": "text/x-python",
   "name": "python",
   "nbconvert_exporter": "python",
   "pygments_lexer": "ipython3",
   "version": "3.7.7"
  }
 },
 "nbformat": 4,
 "nbformat_minor": 4
}
